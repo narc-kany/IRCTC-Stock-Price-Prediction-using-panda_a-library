{
 "cells": [
  {
   "cell_type": "markdown",
   "id": "077e0bc6-69af-4fb5-a226-652d7330ac03",
   "metadata": {},
   "source": [
    "<div style=\"text-align: center; font-size: 36px; font-family: Arial, sans-serif; color: #007acc; font-weight: bold;\">\n",
    "    IRCTC Stock Price Prediction\n",
    "</div>"
   ]
  },
  {
   "cell_type": "code",
   "execution_count": 1,
   "id": "e6f9558e-e99c-454e-a440-709f5aa50c55",
   "metadata": {},
   "outputs": [
    {
     "name": "stdout",
     "output_type": "stream",
     "text": [
      "Defaulting to user installation because normal site-packages is not writeable\n",
      "Requirement already satisfied: pandas-datareader in c:\\users\\user\\appdata\\roaming\\python\\python312\\site-packages (0.10.0)\n",
      "Requirement already satisfied: lxml in c:\\programdata\\anaconda3\\lib\\site-packages (from pandas-datareader) (5.2.1)\n",
      "Requirement already satisfied: pandas>=0.23 in c:\\programdata\\anaconda3\\lib\\site-packages (from pandas-datareader) (2.2.2)\n",
      "Requirement already satisfied: requests>=2.19.0 in c:\\programdata\\anaconda3\\lib\\site-packages (from pandas-datareader) (2.32.3)\n",
      "Requirement already satisfied: numpy>=1.26.0 in c:\\programdata\\anaconda3\\lib\\site-packages (from pandas>=0.23->pandas-datareader) (1.26.4)\n",
      "Requirement already satisfied: python-dateutil>=2.8.2 in c:\\programdata\\anaconda3\\lib\\site-packages (from pandas>=0.23->pandas-datareader) (2.9.0.post0)\n",
      "Requirement already satisfied: pytz>=2020.1 in c:\\programdata\\anaconda3\\lib\\site-packages (from pandas>=0.23->pandas-datareader) (2024.1)\n",
      "Requirement already satisfied: tzdata>=2022.7 in c:\\programdata\\anaconda3\\lib\\site-packages (from pandas>=0.23->pandas-datareader) (2023.3)\n",
      "Requirement already satisfied: charset-normalizer<4,>=2 in c:\\programdata\\anaconda3\\lib\\site-packages (from requests>=2.19.0->pandas-datareader) (3.3.2)\n",
      "Requirement already satisfied: idna<4,>=2.5 in c:\\programdata\\anaconda3\\lib\\site-packages (from requests>=2.19.0->pandas-datareader) (3.7)\n",
      "Requirement already satisfied: urllib3<3,>=1.21.1 in c:\\programdata\\anaconda3\\lib\\site-packages (from requests>=2.19.0->pandas-datareader) (2.2.3)\n",
      "Requirement already satisfied: certifi>=2017.4.17 in c:\\programdata\\anaconda3\\lib\\site-packages (from requests>=2.19.0->pandas-datareader) (2024.8.30)\n",
      "Requirement already satisfied: six>=1.5 in c:\\programdata\\anaconda3\\lib\\site-packages (from python-dateutil>=2.8.2->pandas>=0.23->pandas-datareader) (1.16.0)\n"
     ]
    }
   ],
   "source": [
    "!pip install pandas-datareader"
   ]
  },
  {
   "cell_type": "code",
   "execution_count": 2,
   "id": "ae8b9ca7-c9c7-47d2-9165-74e220f4f5ad",
   "metadata": {},
   "outputs": [
    {
     "name": "stdout",
     "output_type": "stream",
     "text": [
      "Name: pandas-datareaderNote: you may need to restart the kernel to use updated packages.\n",
      "\n",
      "Version: 0.10.0\n",
      "Summary: Data readers extracted from the pandas codebase,should be compatible with recent pandas versions\n",
      "Home-page: https://github.com/pydata/pandas-datareader\n",
      "Author: The PyData Development Team\n",
      "Author-email: pydata@googlegroups.com\n",
      "License: BSD License\n",
      "Location: C:\\Users\\user\\AppData\\Roaming\\Python\\Python312\\site-packages\n",
      "Requires: lxml, pandas, requests\n",
      "Required-by: \n"
     ]
    }
   ],
   "source": [
    "pip show pandas-datareader"
   ]
  },
  {
   "cell_type": "code",
   "execution_count": 3,
   "id": "fcb04b6f-a2fe-4e29-85ce-f27b3cf765ef",
   "metadata": {},
   "outputs": [
    {
     "name": "stdout",
     "output_type": "stream",
     "text": [
      "Defaulting to user installation because normal site-packages is not writeable\n",
      "Requirement already satisfied: pandas_ta in c:\\users\\user\\appdata\\roaming\\python\\python312\\site-packages (0.3.14b0)\n",
      "Requirement already satisfied: pandas in c:\\programdata\\anaconda3\\lib\\site-packages (from pandas_ta) (2.2.2)\n",
      "Requirement already satisfied: numpy>=1.26.0 in c:\\programdata\\anaconda3\\lib\\site-packages (from pandas->pandas_ta) (1.26.4)\n",
      "Requirement already satisfied: python-dateutil>=2.8.2 in c:\\programdata\\anaconda3\\lib\\site-packages (from pandas->pandas_ta) (2.9.0.post0)\n",
      "Requirement already satisfied: pytz>=2020.1 in c:\\programdata\\anaconda3\\lib\\site-packages (from pandas->pandas_ta) (2024.1)\n",
      "Requirement already satisfied: tzdata>=2022.7 in c:\\programdata\\anaconda3\\lib\\site-packages (from pandas->pandas_ta) (2023.3)\n",
      "Requirement already satisfied: six>=1.5 in c:\\programdata\\anaconda3\\lib\\site-packages (from python-dateutil>=2.8.2->pandas->pandas_ta) (1.16.0)\n",
      "Note: you may need to restart the kernel to use updated packages.\n"
     ]
    }
   ],
   "source": [
    "pip install pandas_ta"
   ]
  },
  {
   "cell_type": "code",
   "execution_count": 4,
   "id": "d057aba2-e7f5-426f-aae7-e36af860f3c9",
   "metadata": {},
   "outputs": [
    {
     "name": "stdout",
     "output_type": "stream",
     "text": [
      "Defaulting to user installation because normal site-packages is not writeable\n",
      "Requirement already satisfied: yfinance in c:\\users\\user\\appdata\\roaming\\python\\python312\\site-packages (0.2.54)\n",
      "Requirement already satisfied: pandas>=1.3.0 in c:\\programdata\\anaconda3\\lib\\site-packages (from yfinance) (2.2.2)\n",
      "Requirement already satisfied: numpy>=1.16.5 in c:\\programdata\\anaconda3\\lib\\site-packages (from yfinance) (1.26.4)\n",
      "Requirement already satisfied: requests>=2.31 in c:\\programdata\\anaconda3\\lib\\site-packages (from yfinance) (2.32.3)\n",
      "Requirement already satisfied: multitasking>=0.0.7 in c:\\users\\user\\appdata\\roaming\\python\\python312\\site-packages (from yfinance) (0.0.11)\n",
      "Requirement already satisfied: platformdirs>=2.0.0 in c:\\programdata\\anaconda3\\lib\\site-packages (from yfinance) (3.10.0)\n",
      "Requirement already satisfied: pytz>=2022.5 in c:\\programdata\\anaconda3\\lib\\site-packages (from yfinance) (2024.1)\n",
      "Requirement already satisfied: frozendict>=2.3.4 in c:\\programdata\\anaconda3\\lib\\site-packages (from yfinance) (2.4.2)\n",
      "Requirement already satisfied: peewee>=3.16.2 in c:\\users\\user\\appdata\\roaming\\python\\python312\\site-packages (from yfinance) (3.17.9)\n",
      "Requirement already satisfied: beautifulsoup4>=4.11.1 in c:\\programdata\\anaconda3\\lib\\site-packages (from yfinance) (4.12.3)\n",
      "Requirement already satisfied: soupsieve>1.2 in c:\\programdata\\anaconda3\\lib\\site-packages (from beautifulsoup4>=4.11.1->yfinance) (2.5)\n",
      "Requirement already satisfied: python-dateutil>=2.8.2 in c:\\programdata\\anaconda3\\lib\\site-packages (from pandas>=1.3.0->yfinance) (2.9.0.post0)\n",
      "Requirement already satisfied: tzdata>=2022.7 in c:\\programdata\\anaconda3\\lib\\site-packages (from pandas>=1.3.0->yfinance) (2023.3)\n",
      "Requirement already satisfied: charset-normalizer<4,>=2 in c:\\programdata\\anaconda3\\lib\\site-packages (from requests>=2.31->yfinance) (3.3.2)\n",
      "Requirement already satisfied: idna<4,>=2.5 in c:\\programdata\\anaconda3\\lib\\site-packages (from requests>=2.31->yfinance) (3.7)\n",
      "Requirement already satisfied: urllib3<3,>=1.21.1 in c:\\programdata\\anaconda3\\lib\\site-packages (from requests>=2.31->yfinance) (2.2.3)\n",
      "Requirement already satisfied: certifi>=2017.4.17 in c:\\programdata\\anaconda3\\lib\\site-packages (from requests>=2.31->yfinance) (2024.8.30)\n",
      "Requirement already satisfied: six>=1.5 in c:\\programdata\\anaconda3\\lib\\site-packages (from python-dateutil>=2.8.2->pandas>=1.3.0->yfinance) (1.16.0)\n",
      "Note: you may need to restart the kernel to use updated packages.\n"
     ]
    }
   ],
   "source": [
    "pip install yfinance"
   ]
  },
  {
   "cell_type": "code",
   "execution_count": 6,
   "id": "c0660784-794a-4b5e-90ab-3912614e0454",
   "metadata": {},
   "outputs": [],
   "source": [
    "# import necessary libraries\n",
    "\n",
    "import numpy as np\n",
    "import pandas as pd\n",
    "import matplotlib.pyplot as plt\n",
    "import datetime\n",
    "import pandas_ta as ta\n",
    "import yfinance as yf\n",
    "from sklearn.preprocessing import StandardScaler"
   ]
  },
  {
   "cell_type": "code",
   "execution_count": 11,
   "id": "bf1cf462-0958-45af-9424-9ac36dbc2124",
   "metadata": {},
   "outputs": [
    {
     "name": "stdout",
     "output_type": "stream",
     "text": [
      "YF.download() has changed argument auto_adjust default to True\n"
     ]
    },
    {
     "name": "stderr",
     "output_type": "stream",
     "text": [
      "[*********************100%***********************]  1 of 1 completed"
     ]
    },
    {
     "name": "stdout",
     "output_type": "stream",
     "text": [
      "Price            Close        High         Low        Open   Volume\n",
      "Ticker        IRCTC.NS    IRCTC.NS    IRCTC.NS    IRCTC.NS IRCTC.NS\n",
      "Date                                                               \n",
      "2020-01-01  181.696182  183.524024  179.858741  181.224803  8593275\n",
      "2020-01-02  179.012207  181.628896  178.367657  181.628896  3287655\n",
      "2020-01-03  179.204590  181.532670  178.463832  178.550425  4342850\n",
      "2020-01-06  172.095276  178.367633  171.258326  178.358003  3923670\n",
      "2020-01-07  174.586929  177.299826  172.585931  172.585931  3486795\n"
     ]
    },
    {
     "name": "stderr",
     "output_type": "stream",
     "text": [
      "\n"
     ]
    }
   ],
   "source": [
    "# import the necessary data\n",
    "\n",
    "\n",
    "start = datetime.datetime(2020, 1, 1)\n",
    "end = datetime.datetime(2023, 10, 1)\n",
    "\n",
    "try:\n",
    "    irctc_data = yf.download('IRCTC.NS', start=start, end=end)\n",
    "    if irctc_data is None:\n",
    "        print(\"Error: No data returned. Check the ticker symbol or try again later.\")\n",
    "    else:\n",
    "        print(irctc_data.head())\n",
    "except Exception as e:\n",
    "    print(f\"An error occurred: {e}\")"
   ]
  },
  {
   "cell_type": "code",
   "execution_count": 12,
   "id": "b2968967-5c42-492a-9fb1-9306f82d9534",
   "metadata": {},
   "outputs": [],
   "source": [
    "def get_data(ticker):\n",
    "    start = datetime.datetime(2020, 1, 1)\n",
    "    end = datetime.datetime(2023, 10, 1)\n",
    "    df = yf.download('IRCTC.NS', start=start, end=end)\n",
    "    df.to_csv(ticker+'.csv')"
   ]
  },
  {
   "cell_type": "code",
   "execution_count": 13,
   "id": "fb228b2e-e0c6-44cf-a25e-d4ee63e6e1f0",
   "metadata": {},
   "outputs": [
    {
     "name": "stderr",
     "output_type": "stream",
     "text": [
      "[*********************100%***********************]  1 of 1 completed\n"
     ]
    }
   ],
   "source": [
    "get_data('IRCTC.NS')"
   ]
  },
  {
   "cell_type": "code",
   "execution_count": 14,
   "id": "4fae191b-f8e6-495d-82c0-6b114fa8cdcb",
   "metadata": {},
   "outputs": [
    {
     "data": {
      "text/plain": [
       "(934, 6)"
      ]
     },
     "execution_count": 14,
     "metadata": {},
     "output_type": "execute_result"
    }
   ],
   "source": [
    "pd.read_csv('IRCTC.NS.csv').shape"
   ]
  },
  {
   "cell_type": "code",
   "execution_count": 18,
   "id": "cea8d5cd-e9c6-4c36-b42f-e9a57dc4d0af",
   "metadata": {},
   "outputs": [
    {
     "data": {
      "text/plain": [
       "(array([[ 0.6055487 ,  1.5279733 , -1.35728293, ...,  1.21492839,\n",
       "         -1.59786048,  1.82932593],\n",
       "        [ 0.13029358,  0.61232015, -1.28691397, ...,  1.15269065,\n",
       "         -1.58704863,  2.07142312],\n",
       "        [-0.03583366, -0.40829194, -1.22103111, ...,  0.97711405,\n",
       "         -1.56155384,  2.28072143],\n",
       "        ...,\n",
       "        [-0.71567253, -0.1755186 ,  0.45745608, ..., -0.53148713,\n",
       "          0.59773925, -0.30742654],\n",
       "        [-0.52391601, -0.04503378,  0.4593196 , ..., -0.44527079,\n",
       "          0.60146529, -0.48603008],\n",
       "        [-0.02322545, -0.88663675,  0.44786562, ..., -2.19790811,\n",
       "          0.60511681, -0.48614388]]),\n",
       " array([[ 0.92489359, -0.89642435,  0.38750508, ..., -0.4439243 ,\n",
       "          0.51698353, -0.39968751],\n",
       "        [-0.37744014,  0.09196948,  0.38991399, ..., -0.28021628,\n",
       "          0.52212611, -0.56624044],\n",
       "        [-0.18302097, -0.28968533,  0.40409504, ..., -0.48960748,\n",
       "          0.52716584, -0.66857392],\n",
       "        ...,\n",
       "        [-0.50377933, -0.09433213,  0.76064484, ...,  0.71626846,\n",
       "          0.89765578,  1.68502276],\n",
       "        [ 1.73107526,  0.97163642,  0.7947516 , ...,  0.00576111,\n",
       "          0.92848169,  1.86783895],\n",
       "        [-0.06594027, -1.07804609,  0.80772499, ..., -0.43339643,\n",
       "          0.99250305,  2.03237353]]),\n",
       " 26     1\n",
       " 27     0\n",
       " 28     1\n",
       " 29     0\n",
       " 30     0\n",
       "       ..\n",
       " 762    1\n",
       " 763    1\n",
       " 764    1\n",
       " 765    0\n",
       " 766    0\n",
       " Name: Price_Rise, Length: 376, dtype: int32,\n",
       " 770    1\n",
       " 771    0\n",
       " 772    1\n",
       " 773    1\n",
       " 774    1\n",
       "       ..\n",
       " 916    1\n",
       " 917    0\n",
       " 918    1\n",
       " 919    0\n",
       " 920    0\n",
       " Name: Price_Rise, Length: 95, dtype: int32)"
      ]
     },
     "execution_count": 18,
     "metadata": {},
     "output_type": "execute_result"
    }
   ],
   "source": [
    "def data_preprocessing(ticker):\n",
    "    # Load the dataset\n",
    "    dataset = pd.read_csv('{}.csv'.format(ticker))\n",
    "    \n",
    "    # Convert columns to numeric\n",
    "    dataset['Open'] = pd.to_numeric(dataset['Open'], errors='coerce')\n",
    "    dataset['High'] = pd.to_numeric(dataset['High'], errors='coerce')\n",
    "    dataset['Low'] = pd.to_numeric(dataset['Low'], errors='coerce')\n",
    "    dataset['Close'] = pd.to_numeric(dataset['Close'], errors='coerce')\n",
    "    \n",
    "    # Drop rows with NaN values\n",
    "    dataset = dataset.dropna()\n",
    "    dataset = dataset[['Open', 'High', 'Low', 'Close']]\n",
    "    \n",
    "    # Create new features\n",
    "    dataset['H-L'] = dataset['High'] - dataset['Low']\n",
    "    dataset['O-C'] = dataset['Close'] - dataset['Open']\n",
    "    \n",
    "    # Moving Averages\n",
    "    dataset['ma_5'] = dataset['Close'].rolling(window=5).mean()\n",
    "    dataset['ma_10'] = dataset['Close'].rolling(window=10).mean()\n",
    "    \n",
    "    # Exponential Moving Average\n",
    "    dataset['EWMA_12'] = dataset['Close'].ewm(span=12).mean()\n",
    "    \n",
    "    # Standard Deviation\n",
    "    dataset['std_5'] = dataset['Close'].rolling(window=5).std()\n",
    "    dataset['std_10'] = dataset['Close'].rolling(window=10).std()\n",
    "    \n",
    "    # Technical Indicators using pandas_ta\n",
    "    dataset['RSI'] = ta.rsi(dataset['Close'], length=14)  # RSI\n",
    "    dataset['Williams %R'] = ta.willr(dataset['High'], dataset['Low'], dataset['Close'], length=7)  # Williams %R\n",
    "    dataset['SAR'] = ta.psar(dataset['High'], dataset['Low'], acceleration=0.02, maximum=0.2)['PSARl_0.02_0.2'] #SAR\n",
    "    dataset['ADX'] = ta.adx(dataset['High'], dataset['Low'], dataset['Close'], length=10)['ADX_10']  # ADX\n",
    "    \n",
    "    # Target variable (Price Rise)\n",
    "    dataset['Price_Rise'] = np.where(dataset['Close'].shift(-1) > dataset['Close'], 1, 0)\n",
    "    \n",
    "    # Drop rows with NaN values (created by rolling/indicator calculations)\n",
    "    dataset = dataset.dropna()\n",
    "    \n",
    "    # Features (X) and Target (y)\n",
    "    X = dataset.iloc[:, 4:-1]  # All columns except the first 4 and the last one\n",
    "    y = dataset.iloc[:, -1]    # Last column (Price_Rise)\n",
    "    \n",
    "    # Split the data into training and testing sets\n",
    "    split = int(len(dataset) * 0.8)\n",
    "    X_train, X_test, y_train, y_test = X[:split], X[split:], y[:split], y[split:]\n",
    "    \n",
    "    # Standardize the features\n",
    "    sc = StandardScaler()\n",
    "    X_train = sc.fit_transform(X_train)\n",
    "    X_test = sc.transform(X_test)\n",
    "    \n",
    "    return X_train, X_test, y_train, y_test\n",
    "\n",
    "# Example usage\n",
    "data_preprocessing('IRCTC.NS')"
   ]
  },
  {
   "cell_type": "code",
   "execution_count": 19,
   "id": "612885d9-b4b8-44bc-a3cd-5c7f63f2aa6d",
   "metadata": {},
   "outputs": [
    {
     "name": "stdout",
     "output_type": "stream",
     "text": [
      "accuracy: 0.5157894736842106\n",
      "predicted class counts: Counter({1: 81, 0: 14})\n"
     ]
    }
   ],
   "source": [
    "from sklearn import svm\n",
    "from collections import Counter\n",
    "\n",
    "def svm_linear(ticker):\n",
    "    X_train, X_test, y_train, y_test = data_preprocessing(ticker)\n",
    "    clf = svm.SVC(kernel = 'linear')\n",
    "    clf.fit(X_train, y_train)\n",
    "    confidence = clf.score(X_test, y_test)\n",
    "    print('accuracy:',confidence)\n",
    "    predictions = clf.predict(X_test)\n",
    "    print('predicted class counts:',Counter(predictions))\n",
    "    \n",
    "svm_linear('IRCTC.NS') "
   ]
  },
  {
   "cell_type": "code",
   "execution_count": 21,
   "id": "7ed405bd-fe3a-4486-be21-f291e0d82e87",
   "metadata": {},
   "outputs": [
    {
     "name": "stdout",
     "output_type": "stream",
     "text": [
      "accuracy: 0.4842105263157895\n",
      "predicted class counts: Counter({0: 89, 1: 6})\n"
     ]
    }
   ],
   "source": [
    "def svm_poly(ticker):\n",
    "    X_train, X_test, y_train, y_test = data_preprocessing(ticker)\n",
    "    clf = svm.SVC(kernel = 'poly')\n",
    "    clf.fit(X_train, y_train)\n",
    "    confidence = clf.score(X_test, y_test)\n",
    "    print('accuracy:',confidence)\n",
    "    predictions = clf.predict(X_test)\n",
    "    print('predicted class counts:',Counter(predictions))\n",
    "    \n",
    "svm_poly('IRCTC.NS')   "
   ]
  },
  {
   "cell_type": "code",
   "execution_count": 22,
   "id": "ab070fb4-c321-40f1-83f0-ae73108d2e32",
   "metadata": {},
   "outputs": [
    {
     "name": "stdout",
     "output_type": "stream",
     "text": [
      "accuracy: 0.5157894736842106\n",
      "predicted class counts: Counter({1: 87, 0: 8})\n"
     ]
    }
   ],
   "source": [
    "def svm_rbf(ticker):\n",
    "    X_train, X_test, y_train, y_test = data_preprocessing(ticker)\n",
    "    clf = svm.SVC(kernel = 'rbf')\n",
    "    clf.fit(X_train, y_train)\n",
    "    confidence = clf.score(X_test, y_test)\n",
    "    print('accuracy:',confidence)\n",
    "    predictions = clf.predict(X_test)\n",
    "    print('predicted class counts:',Counter(predictions))\n",
    "    \n",
    "svm_rbf('IRCTC.NS')  "
   ]
  },
  {
   "cell_type": "code",
   "execution_count": null,
   "id": "5288eae5-adf2-461e-92c4-acf2ab8bc6a5",
   "metadata": {},
   "outputs": [],
   "source": []
  }
 ],
 "metadata": {
  "kernelspec": {
   "display_name": "Python 3 (ipykernel)",
   "language": "python",
   "name": "python3"
  },
  "language_info": {
   "codemirror_mode": {
    "name": "ipython",
    "version": 3
   },
   "file_extension": ".py",
   "mimetype": "text/x-python",
   "name": "python",
   "nbconvert_exporter": "python",
   "pygments_lexer": "ipython3",
   "version": "3.12.7"
  }
 },
 "nbformat": 4,
 "nbformat_minor": 5
}
